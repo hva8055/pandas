{
 "cells": [
  {
   "cell_type": "markdown",
   "id": "bffe9f9c",
   "metadata": {},
   "source": [
    "# taking out a single row from a DataFrame"
   ]
  },
  {
   "cell_type": "code",
   "execution_count": 36,
   "id": "e19df567",
   "metadata": {},
   "outputs": [
    {
     "name": "stdout",
     "output_type": "stream",
     "text": [
      "15\n",
      "             name  year1  year2  year3\n",
      "0   bi.bi.kutheja     80     77     80\n",
      "1   chandrushekar     88     83     88\n",
      "2        darshini     64     80     64\n",
      "3          deepak     66     86     66\n",
      "4          harsha     84     64     84\n",
      "5          manasa     61     68     61\n",
      "6           manoj     60     83     60\n",
      "7         monstar     86     69     86\n",
      "8           pavan     58     61     58\n",
      "9         nisarga     67     61     67\n",
      "10          priya     86     74     86\n",
      "11        shakthi     79     82     79\n",
      "12       spoorthi     67     62     67\n",
      "13    yashwanth.R     81     69     81\n",
      "14  yashwanth.K.G     73     86     73\n",
      "Value of row 1\n",
      "name     monstar\n",
      "year1         86\n",
      "year2         69\n",
      "year3         86\n",
      "Name: 7, dtype: object\n"
     ]
    }
   ],
   "source": [
    "import pandas as pd\n",
    "\n",
    "import numpy as np\n",
    "v = np.random.randint(56,90,15)\n",
    "v1 = np.random.randint(60,90,15)\n",
    "print(len(v))\n",
    "data = pd.DataFrame({\"name\":['bi.bi.kutheja','chandrushekar','darshini','deepak','harsha','manasa','manoj','monstar','pavan',\n",
    "                             'nisarga','priya','shakthi','spoorthi','yashwanth.R','yashwanth.K.G'],\n",
    "                     'year1':v,\n",
    "                     'year2':v1,\n",
    "                     'year3':v\n",
    "})\n",
    "\n",
    "print(data)\n",
    "print(\"Value of row 1\")\n",
    "print(data.iloc[7])"
   ]
  },
  {
   "cell_type": "markdown",
   "id": "74e7ff6d",
   "metadata": {},
   "source": [
    "# aggreagation sum() min() max()"
   ]
  },
  {
   "cell_type": "code",
   "execution_count": 37,
   "id": "767612a8",
   "metadata": {},
   "outputs": [
    {
     "name": "stderr",
     "output_type": "stream",
     "text": [
      "C:\\Users\\revan\\AppData\\Local\\Temp\\ipykernel_7652\\530619821.py:1: FutureWarning: ['name'] did not aggregate successfully. If any error is raised this will raise in a future version of pandas. Drop these columns/ops to avoid this warning.\n",
      "  data.agg(['min','max','mean'])\n"
     ]
    },
    {
     "data": {
      "text/html": [
       "<div>\n",
       "<style scoped>\n",
       "    .dataframe tbody tr th:only-of-type {\n",
       "        vertical-align: middle;\n",
       "    }\n",
       "\n",
       "    .dataframe tbody tr th {\n",
       "        vertical-align: top;\n",
       "    }\n",
       "\n",
       "    .dataframe thead th {\n",
       "        text-align: right;\n",
       "    }\n",
       "</style>\n",
       "<table border=\"1\" class=\"dataframe\">\n",
       "  <thead>\n",
       "    <tr style=\"text-align: right;\">\n",
       "      <th></th>\n",
       "      <th>name</th>\n",
       "      <th>year1</th>\n",
       "      <th>year2</th>\n",
       "      <th>year3</th>\n",
       "    </tr>\n",
       "  </thead>\n",
       "  <tbody>\n",
       "    <tr>\n",
       "      <th>min</th>\n",
       "      <td>bi.bi.kutheja</td>\n",
       "      <td>58.000000</td>\n",
       "      <td>61.000000</td>\n",
       "      <td>58.000000</td>\n",
       "    </tr>\n",
       "    <tr>\n",
       "      <th>max</th>\n",
       "      <td>yashwanth.R</td>\n",
       "      <td>88.000000</td>\n",
       "      <td>86.000000</td>\n",
       "      <td>88.000000</td>\n",
       "    </tr>\n",
       "    <tr>\n",
       "      <th>mean</th>\n",
       "      <td>NaN</td>\n",
       "      <td>73.333333</td>\n",
       "      <td>73.666667</td>\n",
       "      <td>73.333333</td>\n",
       "    </tr>\n",
       "  </tbody>\n",
       "</table>\n",
       "</div>"
      ],
      "text/plain": [
       "               name      year1      year2      year3\n",
       "min   bi.bi.kutheja  58.000000  61.000000  58.000000\n",
       "max     yashwanth.R  88.000000  86.000000  88.000000\n",
       "mean            NaN  73.333333  73.666667  73.333333"
      ]
     },
     "execution_count": 37,
     "metadata": {},
     "output_type": "execute_result"
    }
   ],
   "source": [
    "data.agg(['min','max','mean'])"
   ]
  },
  {
   "cell_type": "code",
   "execution_count": null,
   "id": "453cb51c",
   "metadata": {},
   "outputs": [],
   "source": []
  }
 ],
 "metadata": {
  "kernelspec": {
   "display_name": "Python 3 (ipykernel)",
   "language": "python",
   "name": "python3"
  },
  "language_info": {
   "codemirror_mode": {
    "name": "ipython",
    "version": 3
   },
   "file_extension": ".py",
   "mimetype": "text/x-python",
   "name": "python",
   "nbconvert_exporter": "python",
   "pygments_lexer": "ipython3",
   "version": "3.9.12"
  }
 },
 "nbformat": 4,
 "nbformat_minor": 5
}
